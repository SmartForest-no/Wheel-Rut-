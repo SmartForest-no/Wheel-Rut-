{
 "cells": [
  {
   "cell_type": "markdown",
   "id": "f30b28f4-7c4a-4718-b7ed-fee968d2bbbf",
   "metadata": {},
   "source": [
    "# Create masks from shapefile\n"
   ]
  },
  {
   "cell_type": "code",
   "execution_count": 43,
   "id": "00bd7d72-4977-4622-b93a-aafe93247720",
   "metadata": {},
   "outputs": [],
   "source": [
    "import os, glob\n",
    "from osgeo import gdal, ogr\n",
    "from pathlib import Path\n",
    "import geopandas as gpd\n",
    "from scripts.tools import shp2mask\n"
   ]
  },
  {
   "cell_type": "code",
   "execution_count": null,
   "id": "ff96067a-f056-496a-8a96-78185415176c",
   "metadata": {},
   "outputs": [],
   "source": [
    "# function to convert shp annotations to raster mask (binary only)\n",
    "def shp2mask(path_to_raster, annotations_shp, out_file_path, gdal_utils_path):\n",
    "    fn_ras = path_to_raster\n",
    "    fn_vec = annotations_shp\n",
    "    out_net= path_annotated_data+\"/\"+proj_name+\"_mask.tif\"\n",
    "    ras_ds = gdal.Open(fn_ras) \n",
    "    vec_ds = ogr.Open(fn_vec) \n",
    "    lyr = vec_ds.GetLayer() \n",
    "    geot = ras_ds.GetGeoTransform()\n",
    "\n",
    "    drv_tiff = gdal.GetDriverByName(\"GTiff\") \n",
    "    chn_ras_ds = drv_tiff.Create(out_net, ras_ds.RasterXSize, ras_ds.RasterYSize, 1, gdal.GDT_Float32)\n",
    "    chn_ras_ds.SetGeoTransform(geot)\n",
    "\n",
    "    gdal.RasterizeLayer(chn_ras_ds, [1], lyr, options=['ATTRIBUTE=id'])\n",
    "    #chn_ras_ds.GetRasterBand(1).SetNoDataValue(0.0) \n",
    "    chn_ras_ds = None\n",
    "    \n",
    "    # get boundary shp\n",
    "    shape_path=os.path.dirname(path_to_raster)+\"/\"+proj_name+\"_boundary.shp\"\n",
    "    os.chdir(gdal_utils_path)\n",
    "    command_polygonize = \"gdal_polygonize.py \"+ i + \" -b 4 \" + shape_path\n",
    "    print(os.popen(command_polygonize).read())\n",
    "    ## Select polygon that has DN equal to 255, indicating the area where drone data is available for\n",
    "    polys = gpd.read_file(shape_path)\n",
    "    polys[polys['DN']>0].to_file(shape_path)\n"
   ]
  },
  {
   "cell_type": "code",
   "execution_count": 2,
   "id": "108fe48f-9731-4944-b4fa-b220620736bc",
   "metadata": {},
   "outputs": [],
   "source": [
    "gdal_utils_path=os.getcwd()+\"/scripts\""
   ]
  },
  {
   "cell_type": "code",
   "execution_count": 33,
   "id": "eb1621f9-c423-49a3-8b2e-b087000b6766",
   "metadata": {},
   "outputs": [],
   "source": [
    "path_annotated_data=\"/home/nibio/Downloads/annotated_wheelRuts\"\n",
    "orthos= glob.glob(path_annotated_data+\"/*ortho.tif\")\n",
    "annotations_shp= path_annotated_data+\"/annotated_wheelRuts_V2_buff70cm.shp\"\n"
   ]
  },
  {
   "cell_type": "code",
   "execution_count": 4,
   "id": "21dec3d3-f97c-4cb9-8565-d636661423c1",
   "metadata": {},
   "outputs": [
    {
     "name": "stdout",
     "output_type": "stream",
     "text": [
      "Aas\n"
     ]
    }
   ],
   "source": [
    "\n",
    "for i in orthos:\n",
    "    proj_name= Path(i).stem.split(\"_\")[0]\n",
    "    out_file_path= os.path.dirname(i)+ \"/\"+proj_name+\"_mask.tif\"\n",
    "    print (proj_name)\n",
    "    # generate mask\n",
    "    "
   ]
  },
  {
   "cell_type": "code",
   "execution_count": 38,
   "id": "accd19b3-7fe2-4473-a158-21c8c35af438",
   "metadata": {},
   "outputs": [
    {
     "data": {
      "text/plain": [
       "'/home/nibio/Downloads/annotated_wheelRuts'"
      ]
     },
     "execution_count": 38,
     "metadata": {},
     "output_type": "execute_result"
    }
   ],
   "source": []
  },
  {
   "cell_type": "markdown",
   "id": "29e9db6c-64c7-4bf5-9333-63632b827e52",
   "metadata": {},
   "source": [
    "# Rasterize the wheelruts"
   ]
  },
  {
   "cell_type": "code",
   "execution_count": 6,
   "id": "d0fee448-3ec0-49f7-a293-2c25dd1b5370",
   "metadata": {},
   "outputs": [],
   "source": []
  },
  {
   "cell_type": "markdown",
   "id": "19def0d2-06b8-4869-9284-57a5900d7e90",
   "metadata": {},
   "source": [
    "# get outline and crop the output raster"
   ]
  },
  {
   "cell_type": "code",
   "execution_count": 8,
   "id": "6e544022-33dc-4454-961a-eae815bbd801",
   "metadata": {},
   "outputs": [
    {
     "name": "stdout",
     "output_type": "stream",
     "text": [
      "0...10...20...30...40...50...60...70...80...90...Creating output /home/nibio/Downloads/annotated_wheelRuts/Aas_boundary.shp of format ESRI Shapefile.\n",
      "100 - done.\n",
      "\n"
     ]
    }
   ],
   "source": []
  },
  {
   "cell_type": "code",
   "execution_count": 20,
   "id": "d707f5d5-0c80-4119-bfc5-8af05565598b",
   "metadata": {},
   "outputs": [],
   "source": [
    "## Select polygon that has DN equal to 255, indicating the area where drone data is available for\n",
    "polys = gpd.read_file(shape_path)\n",
    "polys[polys['DN']>0].to_file(shape_path)"
   ]
  }
 ],
 "metadata": {
  "kernelspec": {
   "display_name": "Python 3 (ipykernel)",
   "language": "python",
   "name": "python3"
  },
  "language_info": {
   "codemirror_mode": {
    "name": "ipython",
    "version": 3
   },
   "file_extension": ".py",
   "mimetype": "text/x-python",
   "name": "python",
   "nbconvert_exporter": "python",
   "pygments_lexer": "ipython3",
   "version": "3.7.12"
  }
 },
 "nbformat": 4,
 "nbformat_minor": 5
}
